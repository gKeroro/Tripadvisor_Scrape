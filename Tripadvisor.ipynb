{
 "cells": [
  {
   "cell_type": "code",
   "execution_count": 1,
   "metadata": {},
   "outputs": [],
   "source": [
    "import requests\n",
    "from bs4 import BeautifulSoup\n",
    "import pandas as pd\n",
    "import re"
   ]
  },
  {
   "cell_type": "markdown",
   "metadata": {},
   "source": [
    "### Extract every hotel url from an initial search result,for example : 台東"
   ]
  },
  {
   "cell_type": "code",
   "execution_count": 2,
   "metadata": {},
   "outputs": [],
   "source": [
    "def hotels(url):\n",
    "    res = requests.get(url)\n",
    "    soup = BeautifulSoup(res.text,\"lxml\")\n",
    "    hotel_list=soup.find_all('div','ui_column is-8 main_col allowEllipsis')\n",
    "    return hotel_list"
   ]
  },
  {
   "cell_type": "markdown",
   "metadata": {},
   "source": [
    "### When you got those links, you also need a soup for extracting data"
   ]
  },
  {
   "cell_type": "code",
   "execution_count": 3,
   "metadata": {},
   "outputs": [],
   "source": [
    "def create_soup(url):\n",
    "    res = requests.get(url)\n",
    "    soup = BeautifulSoup(res.text,\"lxml\")\n",
    "    return soup"
   ]
  },
  {
   "cell_type": "markdown",
   "metadata": {},
   "source": [
    "###  Using the following function can help to get hotel name, score, address, price, etc."
   ]
  },
  {
   "cell_type": "code",
   "execution_count": 4,
   "metadata": {},
   "outputs": [],
   "source": [
    "def grades(score):\n",
    "    grade=int(score.find('span').get('class')[1].split('_')[1])/10\n",
    "    return grade"
   ]
  },
  {
   "cell_type": "code",
   "execution_count": 5,
   "metadata": {},
   "outputs": [],
   "source": [
    "def hotel_name(soup):\n",
    "    Name=soup.find('h1','_1mTlpMC3').text\n",
    "    return Name"
   ]
  },
  {
   "cell_type": "code",
   "execution_count": 6,
   "metadata": {},
   "outputs": [],
   "source": [
    "def get_Category(soup):\n",
    "    try:\n",
    "        Category=soup.find('div','_1vpp5J_x').text[-2:]\n",
    "    except:\n",
    "        Category='No data'\n",
    "    return Category"
   ]
  },
  {
   "cell_type": "code",
   "execution_count": 7,
   "metadata": {},
   "outputs": [],
   "source": [
    "def get_Rank(soup):\n",
    "    try:\n",
    "        match = re.findall('[0-9]+',soup.find('div','_1vpp5J_x').text)\n",
    "        Rank=str(match[0])+'/'+str(match[1])\n",
    "    except:\n",
    "        Rank='No data'\n",
    "    return Rank\n",
    "    \n",
    "    "
   ]
  },
  {
   "cell_type": "code",
   "execution_count": 8,
   "metadata": {},
   "outputs": [],
   "source": [
    "def get_address(soup):\n",
    "    add=soup.find('div','_1sPw_t0w _3sCS_WGO').text\n",
    "    return add"
   ]
  },
  {
   "cell_type": "code",
   "execution_count": 9,
   "metadata": {},
   "outputs": [],
   "source": [
    "def get_score(soup):\n",
    "    #total score     \n",
    "    try:\n",
    "        score=soup.find('span',\"_3cjYfwwQ\").text\n",
    "    except:\n",
    "        score=\"No data\"\n",
    "    return score"
   ]
  },
  {
   "cell_type": "code",
   "execution_count": 10,
   "metadata": {},
   "outputs": [],
   "source": [
    "def get_comment(soup):\n",
    "    try:\n",
    "        comment=soup.find('span',\"_33O9dg0j\").text.split('則')[0]\n",
    "    except:\n",
    "        comment=\"No data\"\n",
    "    return comment"
   ]
  },
  {
   "cell_type": "code",
   "execution_count": 11,
   "metadata": {},
   "outputs": [],
   "source": [
    "def get_price(soup):\n",
    "    try:\n",
    "        try:\n",
    "            price=soup.find('div','_1mV0AtdP offer hVx3qimM _1p50Ckoi bookableOffer _2Ngw5d8g').get('data-pernight')\n",
    "        except:\n",
    "            price=soup.find('div',\"premium_offers_area offers\").find('a').get('data-pernight')\n",
    "    except:\n",
    "        price='No data'\n",
    "    return price"
   ]
  },
  {
   "cell_type": "code",
   "execution_count": 12,
   "metadata": {},
   "outputs": [],
   "source": [
    "def creat_subscore(soup):\n",
    "    # List of indexes\n",
    "    list_index = [\"location\", \"cleanness\" , \"service\" , \"CP\"]\n",
    "    \n",
    "    findgd=soup.find_all('div','_1krg1t5y')\n",
    "    index_score=list(map(grades,findgd))\n",
    "    if not index_score:\n",
    "        subscore={\"location\":\"No data\", \"cleanness\":\"No data\" , \"service\":\"No data\" , \"CP\":\"No data\"}\n",
    "        return subscore\n",
    "    # Create a zip object from two lists\n",
    "    else:\n",
    "        subscore = dict(zip(list_index, index_score))\n",
    "        return subscore"
   ]
  },
  {
   "cell_type": "markdown",
   "metadata": {},
   "source": [
    "### Make urls "
   ]
  },
  {
   "cell_type": "code",
   "execution_count": 13,
   "metadata": {},
   "outputs": [],
   "source": [
    "websites=['https://www.tripadvisor.com.tw/Hotels-g304163-Taitung-Hotels.html']\n",
    "for i in range(30,1530,30):\n",
    "    websites.append('https://www.tripadvisor.com.tw/Hotels-g304163-oa'+str(i)+'-Taitung-Hotels.html')\n"
   ]
  },
  {
   "cell_type": "markdown",
   "metadata": {},
   "source": [
    "### Get all Hotel's urls by  anonymous function"
   ]
  },
  {
   "cell_type": "code",
   "execution_count": 14,
   "metadata": {},
   "outputs": [],
   "source": [
    "urls=[]\n",
    "for web in websites:\n",
    "    hotel_list=hotels(web)\n",
    "    urls.extend(list(map(lambda x:'https://www.tripadvisor.com.tw/'+x.find('a','property_title prominent').get('href'),hotel_list)))"
   ]
  },
  {
   "cell_type": "markdown",
   "metadata": {},
   "source": [
    "###  Start to scrape information. Here I only demo first 10 data"
   ]
  },
  {
   "cell_type": "code",
   "execution_count": 15,
   "metadata": {
    "scrolled": true
   },
   "outputs": [
    {
     "name": "stdout",
     "output_type": "stream",
     "text": [
      "----------------------------------------------------------Done----------------------------------------------------------\n",
      "----------------------------------------------------------Done----------------------------------------------------------\n",
      "----------------------------------------------------------Done----------------------------------------------------------\n",
      "----------------------------------------------------------Done----------------------------------------------------------\n",
      "----------------------------------------------------------Done----------------------------------------------------------\n",
      "----------------------------------------------------------Done----------------------------------------------------------\n",
      "----------------------------------------------------------Done----------------------------------------------------------\n",
      "----------------------------------------------------------Done----------------------------------------------------------\n",
      "----------------------------------------------------------Done----------------------------------------------------------\n",
      "----------------------------------------------------------Done----------------------------------------------------------\n"
     ]
    },
    {
     "data": {
      "text/html": [
       "<div>\n",
       "<style scoped>\n",
       "    .dataframe tbody tr th:only-of-type {\n",
       "        vertical-align: middle;\n",
       "    }\n",
       "\n",
       "    .dataframe tbody tr th {\n",
       "        vertical-align: top;\n",
       "    }\n",
       "\n",
       "    .dataframe thead th {\n",
       "        text-align: right;\n",
       "    }\n",
       "</style>\n",
       "<table border=\"1\" class=\"dataframe\">\n",
       "  <thead>\n",
       "    <tr style=\"text-align: right;\">\n",
       "      <th></th>\n",
       "      <th>Name</th>\n",
       "      <th>Price</th>\n",
       "      <th>address</th>\n",
       "      <th>Rank</th>\n",
       "      <th>Category</th>\n",
       "      <th>Score</th>\n",
       "      <th>Comment</th>\n",
       "      <th>location</th>\n",
       "      <th>cleanness</th>\n",
       "      <th>service</th>\n",
       "      <th>CP</th>\n",
       "      <th>urls</th>\n",
       "    </tr>\n",
       "  </thead>\n",
       "  <tbody>\n",
       "    <tr>\n",
       "      <th>0</th>\n",
       "      <td>康橋大飯店 (臺東市) Kindness Hotel Taitung</td>\n",
       "      <td>2359</td>\n",
       "      <td>台灣 臺東市 台東市中興路209巷16號</td>\n",
       "      <td>1/59</td>\n",
       "      <td>飯店</td>\n",
       "      <td>5.0</td>\n",
       "      <td>736</td>\n",
       "      <td>4.0</td>\n",
       "      <td>4.5</td>\n",
       "      <td>5.0</td>\n",
       "      <td>4.5</td>\n",
       "      <td>https://www.tripadvisor.com.tw//Hotel_Review-g...</td>\n",
       "    </tr>\n",
       "    <tr>\n",
       "      <th>1</th>\n",
       "      <td>台東桂田喜來登酒店 (臺東市) Sheraton Taitung Hotel</td>\n",
       "      <td>5346</td>\n",
       "      <td>造訪飯店網站</td>\n",
       "      <td>4/59</td>\n",
       "      <td>飯店</td>\n",
       "      <td>4.5</td>\n",
       "      <td>668</td>\n",
       "      <td>4.5</td>\n",
       "      <td>4.5</td>\n",
       "      <td>4.5</td>\n",
       "      <td>4.0</td>\n",
       "      <td>https://www.tripadvisor.com.tw//Hotel_Review-g...</td>\n",
       "    </tr>\n",
       "    <tr>\n",
       "      <th>2</th>\n",
       "      <td>日暉國際渡假村 (池上) Papago International Resort</td>\n",
       "      <td>7842</td>\n",
       "      <td>95844 台灣 池上鄉新興村新興107號</td>\n",
       "      <td>1/4</td>\n",
       "      <td>飯店</td>\n",
       "      <td>4.0</td>\n",
       "      <td>229</td>\n",
       "      <td>4.0</td>\n",
       "      <td>4.0</td>\n",
       "      <td>4.0</td>\n",
       "      <td>3.5</td>\n",
       "      <td>https://www.tripadvisor.com.tw//Hotel_Review-g...</td>\n",
       "    </tr>\n",
       "    <tr>\n",
       "      <th>3</th>\n",
       "      <td>知本金聯世紀酒店 (太麻里) Chihpen Century Hotel</td>\n",
       "      <td>3628</td>\n",
       "      <td>954 台灣 卑南鄉龍泉路30號</td>\n",
       "      <td>1/14</td>\n",
       "      <td>飯店</td>\n",
       "      <td>4.0</td>\n",
       "      <td>470</td>\n",
       "      <td>4.0</td>\n",
       "      <td>4.5</td>\n",
       "      <td>4.5</td>\n",
       "      <td>4.0</td>\n",
       "      <td>https://www.tripadvisor.com.tw//Hotel_Review-g...</td>\n",
       "    </tr>\n",
       "    <tr>\n",
       "      <th>4</th>\n",
       "      <td>知本老爺酒店 (太麻里) Hotel Royal Chihpen</td>\n",
       "      <td>No data</td>\n",
       "      <td>954 台灣 卑南鄉溫泉村龍泉路113巷23號</td>\n",
       "      <td>2/14</td>\n",
       "      <td>飯店</td>\n",
       "      <td>4.0</td>\n",
       "      <td>458</td>\n",
       "      <td>4.0</td>\n",
       "      <td>4.5</td>\n",
       "      <td>4.0</td>\n",
       "      <td>3.5</td>\n",
       "      <td>https://www.tripadvisor.com.tw//Hotel_Review-g...</td>\n",
       "    </tr>\n",
       "    <tr>\n",
       "      <th>5</th>\n",
       "      <td>台東南豐鐵花棧 (臺東市) Inn by the Village</td>\n",
       "      <td>1950</td>\n",
       "      <td>95002 台灣 臺東市 台東市中華路一段585號</td>\n",
       "      <td>3/59</td>\n",
       "      <td>飯店</td>\n",
       "      <td>4.5</td>\n",
       "      <td>144</td>\n",
       "      <td>5.0</td>\n",
       "      <td>4.5</td>\n",
       "      <td>4.5</td>\n",
       "      <td>4.5</td>\n",
       "      <td>https://www.tripadvisor.com.tw//Hotel_Review-g...</td>\n",
       "    </tr>\n",
       "    <tr>\n",
       "      <th>6</th>\n",
       "      <td>娜路彎大酒店 (臺東市) Formosan Naruwan Hotel &amp; Resort T...</td>\n",
       "      <td>7223</td>\n",
       "      <td>950 台灣 臺東市 台東市連航路66號</td>\n",
       "      <td>10/59</td>\n",
       "      <td>飯店</td>\n",
       "      <td>4.0</td>\n",
       "      <td>156</td>\n",
       "      <td>4.0</td>\n",
       "      <td>4.0</td>\n",
       "      <td>4.0</td>\n",
       "      <td>3.5</td>\n",
       "      <td>https://www.tripadvisor.com.tw//Hotel_Review-g...</td>\n",
       "    </tr>\n",
       "    <tr>\n",
       "      <th>7</th>\n",
       "      <td>幸福旅行舍 (卑南) Xin Fu Traveler Inn</td>\n",
       "      <td>No data</td>\n",
       "      <td>954 台灣 太平路630巷45弄12號</td>\n",
       "      <td>1/57</td>\n",
       "      <td>民宿</td>\n",
       "      <td>5.0</td>\n",
       "      <td>373</td>\n",
       "      <td>4.0</td>\n",
       "      <td>5.0</td>\n",
       "      <td>5.0</td>\n",
       "      <td>4.5</td>\n",
       "      <td>https://www.tripadvisor.com.tw//Hotel_Review-g...</td>\n",
       "    </tr>\n",
       "    <tr>\n",
       "      <th>8</th>\n",
       "      <td>地景泽行馆 (臺東市) The Suites Taitung</td>\n",
       "      <td>2206</td>\n",
       "      <td>95043 台灣 臺東市 台东市博爱路362巷18号</td>\n",
       "      <td>7/59</td>\n",
       "      <td>飯店</td>\n",
       "      <td>4.0</td>\n",
       "      <td>70</td>\n",
       "      <td>4.5</td>\n",
       "      <td>4.5</td>\n",
       "      <td>4.5</td>\n",
       "      <td>4.0</td>\n",
       "      <td>https://www.tripadvisor.com.tw//Hotel_Review-g...</td>\n",
       "    </tr>\n",
       "    <tr>\n",
       "      <th>9</th>\n",
       "      <td>V-Hotel 假期商旅 (臺東市) V-Hotel</td>\n",
       "      <td>No data</td>\n",
       "      <td>95049 台灣 臺東市 台東市四維路三段88號</td>\n",
       "      <td>19/59</td>\n",
       "      <td>飯店</td>\n",
       "      <td>4.0</td>\n",
       "      <td>19</td>\n",
       "      <td>4.5</td>\n",
       "      <td>4.5</td>\n",
       "      <td>3.5</td>\n",
       "      <td>2.5</td>\n",
       "      <td>https://www.tripadvisor.com.tw//Hotel_Review-g...</td>\n",
       "    </tr>\n",
       "  </tbody>\n",
       "</table>\n",
       "</div>"
      ],
      "text/plain": [
       "                                                Name    Price  \\\n",
       "0                 康橋大飯店 (臺東市) Kindness Hotel Taitung     2359   \n",
       "1             台東桂田喜來登酒店 (臺東市) Sheraton Taitung Hotel     5346   \n",
       "2           日暉國際渡假村 (池上) Papago International Resort     7842   \n",
       "3               知本金聯世紀酒店 (太麻里) Chihpen Century Hotel     3628   \n",
       "4                   知本老爺酒店 (太麻里) Hotel Royal Chihpen  No data   \n",
       "5                   台東南豐鐵花棧 (臺東市) Inn by the Village     1950   \n",
       "6  娜路彎大酒店 (臺東市) Formosan Naruwan Hotel & Resort T...     7223   \n",
       "7                     幸福旅行舍 (卑南) Xin Fu Traveler Inn  No data   \n",
       "8                     地景泽行馆 (臺東市) The Suites Taitung     2206   \n",
       "9                         V-Hotel 假期商旅 (臺東市) V-Hotel  No data   \n",
       "\n",
       "                      address   Rank Category Score Comment  location  \\\n",
       "0        台灣 臺東市 台東市中興路209巷16號   1/59       飯店   5.0    736        4.0   \n",
       "1                      造訪飯店網站   4/59       飯店   4.5    668        4.5   \n",
       "2       95844 台灣 池上鄉新興村新興107號    1/4       飯店   4.0    229        4.0   \n",
       "3            954 台灣 卑南鄉龍泉路30號   1/14       飯店   4.0    470        4.0   \n",
       "4     954 台灣 卑南鄉溫泉村龍泉路113巷23號   2/14       飯店   4.0    458        4.0   \n",
       "5   95002 台灣 臺東市 台東市中華路一段585號   3/59       飯店   4.5    144        5.0   \n",
       "6        950 台灣 臺東市 台東市連航路66號  10/59       飯店   4.0    156        4.0   \n",
       "7        954 台灣 太平路630巷45弄12號   1/57       民宿   5.0    373        4.0   \n",
       "8  95043 台灣 臺東市 台东市博爱路362巷18号   7/59       飯店   4.0     70        4.5   \n",
       "9    95049 台灣 臺東市 台東市四維路三段88號  19/59       飯店   4.0     19        4.5   \n",
       "\n",
       "   cleanness  service   CP                                               urls  \n",
       "0        4.5      5.0  4.5  https://www.tripadvisor.com.tw//Hotel_Review-g...  \n",
       "1        4.5      4.5  4.0  https://www.tripadvisor.com.tw//Hotel_Review-g...  \n",
       "2        4.0      4.0  3.5  https://www.tripadvisor.com.tw//Hotel_Review-g...  \n",
       "3        4.5      4.5  4.0  https://www.tripadvisor.com.tw//Hotel_Review-g...  \n",
       "4        4.5      4.0  3.5  https://www.tripadvisor.com.tw//Hotel_Review-g...  \n",
       "5        4.5      4.5  4.5  https://www.tripadvisor.com.tw//Hotel_Review-g...  \n",
       "6        4.0      4.0  3.5  https://www.tripadvisor.com.tw//Hotel_Review-g...  \n",
       "7        5.0      5.0  4.5  https://www.tripadvisor.com.tw//Hotel_Review-g...  \n",
       "8        4.5      4.5  4.0  https://www.tripadvisor.com.tw//Hotel_Review-g...  \n",
       "9        4.5      3.5  2.5  https://www.tripadvisor.com.tw//Hotel_Review-g...  "
      ]
     },
     "execution_count": 15,
     "metadata": {},
     "output_type": "execute_result"
    }
   ],
   "source": [
    "#Creat an empty dataframe with column names\n",
    "df=pd.DataFrame(columns=[\"Name\",\"Price\",\"address\",\"Rank\",\"Category\",\"Score\",\"Comment\",\"location\", \"cleanness\" , \"service\" , \"CP\"])\n",
    "\n",
    "for url in urls[:10]:\n",
    "    #soup\n",
    "    soup_temp = create_soup(url)\n",
    "    #Hotel Name\n",
    "    hotel_Name=hotel_name(soup_temp)\n",
    "    #price\n",
    "    hotel_price=get_price(soup_temp)\n",
    "    #address\n",
    "    hotel_address=get_address(soup_temp)\n",
    "    #Category\n",
    "    hotel_Category=get_Category(soup_temp)\n",
    "    #Rank\n",
    "    hotel_Rank=get_Rank(soup_temp)\n",
    "    #score\n",
    "    hotel_score=get_score(soup_temp)\n",
    "    #comment\n",
    "    hotel_comment=get_comment(soup_temp)\n",
    "    #info dictionary\n",
    "    info={\"Name\":hotel_Name,\"Price\":hotel_price,\"address\":hotel_address,\"Rank\":hotel_Rank,\"Category\":hotel_Category,\"Score\":hotel_score,\"Comment\":hotel_comment,\"urls\":url}\n",
    "    #Combine two dictionaries\n",
    "    subscore=creat_subscore(soup_temp)\n",
    "    info.update(subscore)\n",
    "    print(\"----------------------------------------------------------Done----------------------------------------------------------\")\n",
    "    # add hotel information\n",
    "    df=df.append(info, ignore_index=True)\n",
    "df"
   ]
  },
  {
   "cell_type": "markdown",
   "metadata": {},
   "source": [
    "###  Save as EXCEL"
   ]
  },
  {
   "cell_type": "code",
   "execution_count": 16,
   "metadata": {},
   "outputs": [],
   "source": [
    "#df.to_excel('Taitung.xlsx')"
   ]
  },
  {
   "cell_type": "markdown",
   "metadata": {},
   "source": [
    "####  After coverting 500 addresses to XYcoordinate by TGOS, I can creat an informative heatmap for displaying hotel location on the map"
   ]
  },
  {
   "cell_type": "code",
   "execution_count": 17,
   "metadata": {},
   "outputs": [],
   "source": [
    "import folium\n",
    "from folium.plugins import HeatMap\n",
    "hotel_XY=pd.read_excel(r\"C:\\Users\\YiJhe\\FB Project\\Taitung_XY.xlsx\")\n",
    "XY=[]\n",
    "for i in range(len(hotel_XY)):\n",
    "    XY.append([hotel_XY.Response_Y[i],hotel_XY.Response_X[i]])\n"
   ]
  },
  {
   "cell_type": "markdown",
   "metadata": {},
   "source": [
    "### You can try to scroll up and down"
   ]
  },
  {
   "cell_type": "code",
   "execution_count": 22,
   "metadata": {},
   "outputs": [
    {
     "data": {
      "text/html": [
       "<div style=\"width:100%;\"><div style=\"position:relative;width:100%;height:0;padding-bottom:60%;\"><span style=\"color:#565656\">Make this Notebook Trusted to load map: File -> Trust Notebook</span><iframe src=\"about:blank\" style=\"position:absolute;width:100%;height:100%;left:0;top:0;border:none !important;\" data-html=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 onload=\"this.contentDocument.open();this.contentDocument.write(atob(this.getAttribute('data-html')));this.contentDocument.close();\" allowfullscreen webkitallowfullscreen mozallowfullscreen></iframe></div></div>"
      ],
      "text/plain": [
       "<folium.folium.Map at 0x1f9ed3cf948>"
      ]
     },
     "execution_count": 22,
     "metadata": {},
     "output_type": "execute_result"
    }
   ],
   "source": [
    "fmap = folium.Map(location=[22.755563, 121.115492], zoom_start=10)\n",
    "fmap.add_child(HeatMap(data=XY))\n",
    "fmap"
   ]
  },
  {
   "cell_type": "code",
   "execution_count": null,
   "metadata": {},
   "outputs": [],
   "source": []
  }
 ],
 "metadata": {
  "kernelspec": {
   "display_name": "Python 3",
   "language": "python",
   "name": "python3"
  },
  "language_info": {
   "codemirror_mode": {
    "name": "ipython",
    "version": 3
   },
   "file_extension": ".py",
   "mimetype": "text/x-python",
   "name": "python",
   "nbconvert_exporter": "python",
   "pygments_lexer": "ipython3",
   "version": "3.7.6"
  }
 },
 "nbformat": 4,
 "nbformat_minor": 4
}
